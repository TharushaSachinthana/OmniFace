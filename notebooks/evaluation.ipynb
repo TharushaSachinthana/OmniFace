import numpy as np
import matplotlib.pyplot as plt
from tensorflow.keras.models import load_model
from tensorflow.keras.preprocessing.image import load_img
from tensorflow.keras.utils import to_categorical

# Load model
model = load_model('best_model_by_race_output.h5')

# Load and preprocess test data
x_test = []
for file in test.image:
    img = load_img("/kaggle/input/utkface-new/UTKFace/" + file)
    img = img.resize((224, 224), Image.ANTIALIAS)
    x_test.append(np.array(img))

x_test = np.array(x_test)

y_gender_test = test['gender'].values
y_age_test = test['age'].values
y_race_test = test['race'].values
y_race_test = to_categorical(y_race_test, num_classes=5)

# Evaluate the model
test_acc = model.evaluate(x_test, {'gender_output': y_gender_test, 'age_output': y_age_test, 'race_output': y_race_test}, verbose=0)

print('total loss:', test_acc[0])
print('gender loss:', test_acc[1])
print('age loss:', test_acc[2])
print('race loss:', test_acc[3])
print('gender accuracy:', test_acc[4])
print('age mean absolute error:', test_acc[5])
print('race accuracy:', test_acc[6])

# Plot loss curves
plt.plot(history.history['gender_output_loss'])
plt.plot(history.history['val_gender_output_loss'])
plt.title('Gender loss')
plt.ylabel('loss')
plt.xlabel('epoch')
plt.legend(['train', 'validation'], loc='upper left')
plt.show()

plt.plot(history.history['age_output_loss'])
plt.plot(history.history['val_age_output_loss'])
plt.title('Age loss')
plt.ylabel('loss')
plt.xlabel('epoch')
plt.legend(['train', 'validation'], loc='upper left')
plt.show()

plt.plot(history.history['race_output_loss'])
plt.plot(history.history['val_race_output_loss'])
plt.title('Race loss')
plt.ylabel('loss')
plt.xlabel('epoch')
plt.legend(['train', 'validation'], loc='upper left')
plt.show()
