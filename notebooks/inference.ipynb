{
 "cells": [
  {
   "cell_type": "code",
   "execution_count": null,
   "metadata": {},
   "outputs": [],
   "source": [
    "import numpy as np\n",
    "import matplotlib.pyplot as plt\n",
    "from tensorflow.keras.models import load_model\n",
    "from tensorflow.keras.preprocessing.image import load_img\n",
    "from tensorflow.keras.utils import to_categorical\n",
    "\n",
    "# Load the trained model\n",
    "model = load_model('best_model_by_race_output.h5')\n",
    "\n",
    "# Load custom image for inference\n",
    "image_path = '/path/to/your/image.jpg'\n",
    "img = load_img(image_path, target_size=(224, 224))\n",
    "img_array = np.array(img)\n",
    "img_array = img_array.reshape(1, 224, 224, 3)\n",
    "\n",
    "# Run inference\n",
    "pred = model.predict(img_array)\n",
    "\n",
    "# Extract results\n",
    "gender_pred = round(pred[0][0][0])\n",
    "age_pred = round(pred[1][0][0])\n",
    "race_pred = np.argmax(pred[2][0])\n",
    "\n",
    "# Print prediction results\n",
    "gender_dict = {0: \"Male\", 1: \"Female\"}\n",
    "race_dict = {0: \"White\", 1: \"Black\", 2: \"Asian\", 3: \"Indian\", 4: \"Others\"}\n",
    "\n",
    "print(f\"Gender: {gender_dict[gender_pred]}\")\n",
    "print(f\"Age: {age_pred}\")\n",
    "print(f\"Race: {race_dict[race_pred]}\")\n",
    "\n",
    "# Display image\n",
    "plt.imshow(img)\n",
    "plt.axis('off')\n",
    "plt.show()\n"
   ]
  }
 ],
 "metadata": {
  "kernelspec": {
   "display_name": "base",
   "language": "python",
   "name": "python3"
  },
  "language_info": {
   "name": "python",
   "version": "3.12.4"
  }
 },
 "nbformat": 4,
 "nbformat_minor": 2
}
